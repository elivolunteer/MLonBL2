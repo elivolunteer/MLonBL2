{
 "cells": [
  {
   "cell_type": "code",
   "execution_count": 15,
   "metadata": {},
   "outputs": [],
   "source": [
    "import gc\n",
    "import matplotlib.pyplot as plt\n",
    "import numpy as np\n",
    "import pandas as pd\n",
    "import pickle\n",
    "from pathlib import Path\n",
    "from sklearn import svm\n",
    "from sklearn.metrics import confusion_matrix, accuracy_score"
   ]
  },
  {
   "cell_type": "code",
   "execution_count": 16,
   "metadata": {},
   "outputs": [],
   "source": [
    "def read_bl2(path):\n",
    "    return np.core.records.fromfile(str(path),formats='i8,(2048)i2',names='index,wave')"
   ]
  },
  {
   "cell_type": "code",
   "execution_count": 17,
   "metadata": {},
   "outputs": [],
   "source": [
    "def read_truth(path):\n",
    "    return np.core.records.fromfile(str(path),formats='i8,i2,i2,(6)i2,i2,i2',names='index,label,numPro,naught,T0,max')"
   ]
  },
  {
   "cell_type": "code",
   "execution_count": 18,
   "metadata": {},
   "outputs": [],
   "source": [
    "basepath = Path(\"/Users/elicarter/Local/FominResearch/RealData/Runs/pseudoData/sim50k_equalEvents_noWeirdTail_wfs.dat\")\n",
    "data = read_bl2(basepath)[\"wave\"]\n",
    "#CUT OFF AT 10K EVENTS\n",
    "cutOff = 10000\n",
    "trainingData = data[:cutOff] \n",
    "data = data[cutOff:]"
   ]
  },
  {
   "cell_type": "code",
   "execution_count": 19,
   "metadata": {},
   "outputs": [],
   "source": [
    "truthTable = read_truth(Path(\"/Users/elicarter/Local/FominResearch/RealData/Runs/pseudoData/sim50k_equalEvents_noWeirdTail_proEventList.dat\"))[\"label\"]\n",
    "trainingTruthTable = truthTable[:cutOff]\n",
    "dataTruthTable = truthTable[cutOff:]"
   ]
  },
  {
   "cell_type": "code",
   "execution_count": 20,
   "metadata": {},
   "outputs": [
    {
     "data": {
      "text/plain": [
       "120"
      ]
     },
     "execution_count": 20,
     "metadata": {},
     "output_type": "execute_result"
    }
   ],
   "source": [
    "gc.collect()"
   ]
  },
  {
   "cell_type": "markdown",
   "metadata": {},
   "source": [
    "# Relabel"
   ]
  },
  {
   "cell_type": "markdown",
   "metadata": {},
   "source": [
    "Mark 1,2,3,8 as 0 and 0,4,5,6,7 as 1 to try and focus on finding them"
   ]
  },
  {
   "cell_type": "code",
   "execution_count": 21,
   "metadata": {},
   "outputs": [],
   "source": [
    "for i in range(len(dataTruthTable)):\n",
    "    if dataTruthTable[i] == 1 or dataTruthTable[i] == 2 or dataTruthTable[i] == 3 or dataTruthTable[i] == 8:\n",
    "        dataTruthTable[i] = 0\n",
    "    else:\n",
    "        dataTruthTable[i] = 1\n",
    "for i in range(len(trainingTruthTable)):\n",
    "    if trainingTruthTable[i] == 1 or trainingTruthTable[i] == 2 or trainingTruthTable[i] == 3 or trainingTruthTable[i] == 8:\n",
    "        trainingTruthTable[i] = 0\n",
    "    else:\n",
    "        trainingTruthTable[i] = 1"
   ]
  },
  {
   "cell_type": "code",
   "execution_count": 22,
   "metadata": {},
   "outputs": [
    {
     "data": {
      "text/plain": [
       "40"
      ]
     },
     "execution_count": 22,
     "metadata": {},
     "output_type": "execute_result"
    }
   ],
   "source": [
    "gc.collect()"
   ]
  },
  {
   "cell_type": "markdown",
   "metadata": {},
   "source": [
    "# SVM"
   ]
  },
  {
   "cell_type": "code",
   "execution_count": 23,
   "metadata": {},
   "outputs": [
    {
     "data": {
      "text/plain": [
       "SVC(C=1.0, break_ties=False, cache_size=200, class_weight=None, coef0=0.0,\n",
       "    decision_function_shape='ovr', degree=3, gamma='scale', kernel='rbf',\n",
       "    max_iter=-1, probability=False, random_state=None, shrinking=True,\n",
       "    tol=0.001, verbose=False)"
      ]
     },
     "execution_count": 23,
     "metadata": {},
     "output_type": "execute_result"
    }
   ],
   "source": [
    "clf = svm.SVC()\n",
    "clf.fit(trainingData, trainingTruthTable)"
   ]
  },
  {
   "cell_type": "code",
   "execution_count": 26,
   "metadata": {},
   "outputs": [
    {
     "name": "stdout",
     "output_type": "stream",
     "text": [
      "(10000, 2048)\n",
      "(40000, 2048)\n",
      "(10000,)\n"
     ]
    }
   ],
   "source": [
    "filename = 'RareTrained_model.sav'\n",
    "pickle.dump(clf, open(filename, 'wb'))\n",
    "print(trainingData.shape)\n",
    "print(data.shape)\n",
    "print(trainingTruthTable.shape)"
   ]
  },
  {
   "cell_type": "code",
   "execution_count": null,
   "metadata": {},
   "outputs": [],
   "source": [
    "labels = clf.predict(data)\n",
    "print(accuracy_score(dataTruthTable, labels))"
   ]
  },
  {
   "cell_type": "code",
   "execution_count": null,
   "metadata": {},
   "outputs": [],
   "source": [
    "df = pd.DataFrame(confusion_matrix(dataTruthTable, labels))"
   ]
  },
  {
   "cell_type": "code",
   "execution_count": null,
   "metadata": {},
   "outputs": [],
   "source": [
    "df"
   ]
  },
  {
   "cell_type": "code",
   "execution_count": null,
   "metadata": {},
   "outputs": [],
   "source": []
  }
 ],
 "metadata": {
  "kernelspec": {
   "display_name": "Python 3",
   "language": "python",
   "name": "python3"
  },
  "language_info": {
   "codemirror_mode": {
    "name": "ipython",
    "version": 3
   },
   "file_extension": ".py",
   "mimetype": "text/x-python",
   "name": "python",
   "nbconvert_exporter": "python",
   "pygments_lexer": "ipython3",
   "version": "3.7.4"
  }
 },
 "nbformat": 4,
 "nbformat_minor": 2
}
